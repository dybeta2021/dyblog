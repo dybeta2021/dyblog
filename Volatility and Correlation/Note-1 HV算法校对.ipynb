{
 "cells": [
  {
   "cell_type": "code",
   "execution_count": 1,
   "id": "e2e449c7-d7d9-4267-8681-0820192795c6",
   "metadata": {},
   "outputs": [],
   "source": [
    "from pyflow.model import pyvc\n",
    "import talib\n",
    "from numpy import log, sqrt, double, isclose, ndarray, power\n",
    "from pandas import read_excel, DataFrame"
   ]
  },
  {
   "cell_type": "code",
   "execution_count": 2,
   "id": "de12e0bd-57fe-4308-80d8-e558a4fba381",
   "metadata": {},
   "outputs": [],
   "source": [
    "data = read_excel(\"HS300.xlsx\", index_col=\"Unnamed: 0\")\n",
    "open_s = data[\"open\"].values[1:].astype(double)\n",
    "high = data[\"high\"].values[1:].astype(double)\n",
    "low = data[\"low\"].values[1:].astype(double)\n",
    "close = data[\"close\"].values[1:].astype(double)\n",
    "pre_close = data[\"close\"].values[:-1].astype(double)"
   ]
  },
  {
   "cell_type": "code",
   "execution_count": 3,
   "id": "eb4a2c9c-eccb-48bf-9983-dea0591885e7",
   "metadata": {},
   "outputs": [
    {
     "name": "stdout",
     "output_type": "stream",
     "text": [
      "hv-cc\n",
      "0.1561834673972867\n",
      "0.1561834673972867\n",
      "True\n"
     ]
    }
   ],
   "source": [
    "def test_hv_cc(shift_num:int=20):\n",
    "    print(\"hv-cc\")\n",
    "    print(pyvc.calc_hv_cc(close, shift_num, sqrt(244))[-1])\n",
    "\n",
    "    ret = log(close[-shift_num:] / close[-shift_num-1:-1])\n",
    "    print(sqrt((ret ** 2).sum() / shift_num) * sqrt(244))\n",
    "\n",
    "    print(isclose(pyvc.calc_hv_cc(close, shift_num, sqrt(244))[-1], sqrt((ret ** 2).sum() / shift_num) * sqrt(244)))\n",
    "    \n",
    "test_hv_cc()"
   ]
  },
  {
   "cell_type": "code",
   "execution_count": 4,
   "id": "f08dc5a8-c75d-46c0-88ac-2d18e671a232",
   "metadata": {},
   "outputs": [
    {
     "name": "stdout",
     "output_type": "stream",
     "text": [
      "hv-ema\n",
      "0.18546275028236656\n",
      "0.18546275028236658\n",
      "True\n"
     ]
    }
   ],
   "source": [
    "def test_hv_ema(shift_num: int = 20):\n",
    "    print(\"hv-ema\")\n",
    "    print(pyvc.calc_hv_cc_ema(close, shift_num)[-1])\n",
    "\n",
    "    ret = log(close[1:] / close[:-1])\n",
    "    var = ret ** 2\n",
    "    print(sqrt(talib.EMA(var, shift_num)[-1]) * sqrt(244))\n",
    "    print(isclose(pyvc.calc_hv_cc_ema(close, shift_num)[-1], sqrt(talib.EMA(var, shift_num)[-1]) * sqrt(244)))\n",
    "    \n",
    "test_hv_ema()"
   ]
  },
  {
   "cell_type": "code",
   "execution_count": 5,
   "id": "20624c12-a393-431b-9964-9f2151c5085d",
   "metadata": {},
   "outputs": [
    {
     "name": "stdout",
     "output_type": "stream",
     "text": [
      "hv-pk\n",
      "0.13077663742812326\n",
      "0.13077663742812326\n",
      "True\n"
     ]
    }
   ],
   "source": [
    "def test_hv_pk(shift_num: int = 20):\n",
    "    print(\"hv-pk\")\n",
    "    print(pyvc.calc_hv_pk(high, low, shift_num)[-1])\n",
    "\n",
    "    pk = sqrt((log(high[-shift_num:] / low[-shift_num:]) ** 2).sum() / (4 * log(2) * 20)) * sqrt(244)\n",
    "    print(pk)\n",
    "    print(isclose(pyvc.calc_hv_pk(high, low, shift_num)[-1], pk))\n",
    "    \n",
    "test_hv_pk()"
   ]
  },
  {
   "cell_type": "code",
   "execution_count": 6,
   "id": "acaccd46-4e7a-494c-b82f-7f71f3e91c46",
   "metadata": {},
   "outputs": [
    {
     "name": "stdout",
     "output_type": "stream",
     "text": [
      "hv-gk\n",
      "0.12764510398423495\n",
      "0.12764510398423498\n",
      "True\n"
     ]
    }
   ],
   "source": [
    "def test_hv_gk(shift_num: int = 20):\n",
    "    print(\"hv-gk\")\n",
    "    print(pyvc.calc_hv_gk(open_s, high, low, close, shift_num)[-1])\n",
    "    gk = sqrt((0.5 * log(high[-shift_num:] / low[-shift_num:]) ** 2 - (2 * log(2) - 1) * log(\n",
    "        close[-shift_num:] / open_s[-shift_num:]) ** 2).sum() / shift_num) * sqrt(244)\n",
    "    print(gk)\n",
    "    print(isclose(pyvc.calc_hv_gk(open_s, high, low, close, shift_num)[-1], gk))\n",
    "    \n",
    "test_hv_gk()"
   ]
  },
  {
   "cell_type": "code",
   "execution_count": 7,
   "id": "96045fb9-0110-401b-a1db-b20c2f148508",
   "metadata": {},
   "outputs": [
    {
     "name": "stdout",
     "output_type": "stream",
     "text": [
      "hv-rs\n",
      "0.1257582963184732\n",
      "0.1257582963184732\n",
      "True\n"
     ]
    }
   ],
   "source": [
    "def test_hv_rs(shift_num: int = 20):\n",
    "    print(\"hv-rs\")\n",
    "    print(pyvc.calc_hv_rs(open_s, high, low, close, shift_num)[-1])\n",
    "    rs = sqrt((log(high[-shift_num:] / close[-shift_num:]) * log(high[-shift_num:] / open_s[-shift_num:]) + log(\n",
    "        low[-shift_num:] / close[-shift_num:]) * log(low[-shift_num:] / open_s[-shift_num:])).sum() / shift_num) * sqrt(\n",
    "        244)\n",
    "    print(rs)\n",
    "    print(isclose(pyvc.calc_hv_rs(open_s, high, low, close, shift_num)[-1], rs))\n",
    "    \n",
    "test_hv_rs()"
   ]
  },
  {
   "cell_type": "code",
   "execution_count": 8,
   "id": "f8be0612-a445-41d3-879d-de3207d22d32",
   "metadata": {},
   "outputs": [
    {
     "name": "stdout",
     "output_type": "stream",
     "text": [
      "hv-gkyz\n",
      "0.13422175662557714\n",
      "0.13422175662557714\n",
      "True\n"
     ]
    }
   ],
   "source": [
    "def test_hv_gkyz(shift_num: int = 20):\n",
    "    print(\"hv-gkyz\")\n",
    "    print(pyvc.calc_hv_gkyz(open_s, high, low, close, pre_close, shift_num)[-1])\n",
    "    gkyz = sqrt((log(open_s[-shift_num:] / close[-shift_num - 1:-1]) ** 2 + 0.5 * log(\n",
    "        high[-shift_num:] / low[-shift_num:]) ** 2 - (2 * log(2) - 1) * log(\n",
    "        close[-shift_num:] / open_s[-shift_num:]) ** 2).sum() / shift_num) * sqrt(244)\n",
    "    print(gkyz)\n",
    "    print(isclose(pyvc.calc_hv_gkyz(open_s, high, low, close, pre_close, shift_num)[-1], gkyz))\n",
    "    \n",
    "test_hv_gkyz()"
   ]
  },
  {
   "cell_type": "code",
   "execution_count": 9,
   "id": "cadd27d6-d08c-487e-be9d-98400c4097ad",
   "metadata": {},
   "outputs": [
    {
     "name": "stdout",
     "output_type": "stream",
     "text": [
      "hv-yz\n",
      "0.13469471054902546\n",
      "0.1346947105490255\n",
      "True\n"
     ]
    }
   ],
   "source": [
    "def yang_zhang(open: ndarray, high: ndarray, low: ndarray, close: ndarray, pre_close: ndarray, size: int) -> double:\n",
    "    \"\"\"Yang-Zhang is the sum of overnight volatility, and a weighted average of Rogers-Satchell\n",
    "    and open-to-close volatility.\n",
    "\n",
    "    In 2000 Yang-Zhang created a volatility measure that handles both opening jumps and drift. It\n",
    "    is the sum of the overnight volatility (close-to-open volatility) and a weighted average of the\n",
    "    Rogers-Satchell volatility and the open-to-close volatility. The assumption of continuous prices\n",
    "    does mean the measure tends to slightly underestimate the volatility.\n",
    "    :param open:\n",
    "    :param high:\n",
    "    :param low:\n",
    "    :param close:\n",
    "    :param pre_close:\n",
    "    :param size:\n",
    "    :return:\n",
    "    \"\"\"\n",
    "    k: double = double(0.34 / (1.34 + (size + 1) / (size - 1)))\n",
    "\n",
    "    # overnight volatility\n",
    "    loc: ndarray = log(open / pre_close)\n",
    "    ov: double = power(loc - loc.mean(), 2).sum() / (size - 1)\n",
    "\n",
    "    # open to close volatility\n",
    "    lco: ndarray = log(close / open)\n",
    "    oc: double = power(lco - lco.mean(), 2).sum() / (size - 1)\n",
    "\n",
    "    #  Rogers-Satchell volatility\n",
    "    rs: double = (log(high / close) * log(high / open) + log(low / close) * log(low / open)).sum() / size\n",
    "    return sqrt(ov + k * oc + (1 - k) * rs)\n",
    "\n",
    "\n",
    "def test_hv_yz(shift_num: int = 20):\n",
    "    print(\"hv-yz\")\n",
    "    print(pyvc.calc_hv_yz(open_s, high, low, close, pre_close, shift_num)[-1])\n",
    "    print(yang_zhang(open_s[-shift_num:], high[-shift_num:], low[-shift_num:], close[-shift_num:],\n",
    "                     close[-shift_num - 1:-1], shift_num) * sqrt(244))\n",
    "    print(isclose(pyvc.calc_hv_yz(open_s, high, low, close, pre_close, shift_num)[-1],\n",
    "                  yang_zhang(open_s[-shift_num:], high[-shift_num:], low[-shift_num:], close[-shift_num:],\n",
    "                             close[-shift_num - 1:-1], shift_num) * sqrt(244)))\n",
    "    \n",
    "test_hv_yz()"
   ]
  },
  {
   "cell_type": "code",
   "execution_count": null,
   "id": "10897311-1b6f-4641-a2d7-73991d4b66d8",
   "metadata": {},
   "outputs": [],
   "source": []
  },
  {
   "cell_type": "code",
   "execution_count": null,
   "id": "b6dba220-4899-44b6-8e00-347f52beebd1",
   "metadata": {},
   "outputs": [],
   "source": []
  },
  {
   "cell_type": "code",
   "execution_count": null,
   "id": "6d7633f5-5cf6-4271-8dc8-d276d8b0c0d2",
   "metadata": {},
   "outputs": [],
   "source": []
  }
 ],
 "metadata": {
  "kernelspec": {
   "display_name": "Python 3 (ipykernel)",
   "language": "python",
   "name": "python3"
  },
  "language_info": {
   "codemirror_mode": {
    "name": "ipython",
    "version": 3
   },
   "file_extension": ".py",
   "mimetype": "text/x-python",
   "name": "python",
   "nbconvert_exporter": "python",
   "pygments_lexer": "ipython3",
   "version": "3.9.5"
  }
 },
 "nbformat": 4,
 "nbformat_minor": 5
}
